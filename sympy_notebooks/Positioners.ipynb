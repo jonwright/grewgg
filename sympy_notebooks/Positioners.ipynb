{
 "cells": [
  {
   "cell_type": "markdown",
   "metadata": {},
   "source": [
    "# Positioners\n",
    "\n",
    "The purpose of this code is to model the actual stacks of motors we have at the ID11 beamline to compute sample positions during scans. For rotation scans we need crystallographic computations to figure out if and when a $(hkl)$ reflection will appear. Assuming the reflection is found we want to compute the place where it will hit a detector. This notebook is about the diffractometer and detector geometry.\n",
    "\n",
    "We model the instruments as a list of translations and rotations which are placed in a stack. This corresponds to the reality for simple beamline instruments. More complex geometries, like hexapods etc, are not handled. \n",
    "\n",
    "You can find a similar approach in the imageCIF dictionary and NEXUS positioners etc.\n",
    "\n",
    "Also you might want to take a look at:\n",
    " https://github.com/matthew-brett/transforms3d\n",
    "\n",
    "In the code we will have a class to represent a general positioner in terms of a 4x4 matrix:\n",
    "$$ \\left[ \\begin{matrix} U && t \\\\ 0 && 1 \\end{matrix} \\right] $$ \n",
    "$U$ may be a rotation (or scaling or shear) and $t$ is a translation. \n",
    "In order to apply this matrix to vectors to transform them we make an augmented vector with a 1 or 0 at the end. A \"1\" indicates that translations are included, a \"0\" ignores the translations and would be suitable for pure rotations. These are needed for crystallography. e.g.:\n",
    "\n",
    "Real space co-ordinate: \n",
    "$ \\left[ \\begin{matrix} x_{rot} \\\\ 1 \\end{matrix} \\right] \n",
    "      = \\left[ \\begin{matrix} U && t \\\\ 0 && 1 \\end{matrix} \\right] \n",
    "      \\left[ \\begin{matrix} x_{lab} \\\\ 1 \\end{matrix} \\right] \n",
    "      $\n",
    "      \n",
    "Reciprocal space vector: \n",
    "$ \\left[ \\begin{matrix} h_{rot} \\\\ 0 \\end{matrix} \\right] \n",
    "      = \\left[ \\begin{matrix} U && t \\\\ 0 && 1 \\end{matrix} \\right] \n",
    "      \\left[ \\begin{matrix} h_{lab} \\\\ 0 \\end{matrix} \\right] \n",
    "      $\n",
    "     \n",
    "The following uses the python Sympy package for doing symbolic algebra with Latex type printing. "
   ]
  },
  {
   "cell_type": "code",
   "execution_count": 1,
   "metadata": {},
   "outputs": [],
   "source": [
    "import sympy\n",
    "sympy.init_printing()"
   ]
  },
  {
   "cell_type": "markdown",
   "metadata": {},
   "source": [
    "Declare the symbols we are going to use below"
   ]
  },
  {
   "cell_type": "code",
   "execution_count": 2,
   "metadata": {},
   "outputs": [],
   "source": [
    "x,y,z,h,k,l,t0,t1,t2,Omega,phi,W = sympy.symbols('x y z h k l t0 t1 t2 Omega phi W')\n",
    "UL = sympy.symbols(\" \".join([\"U_%d%d\"%(i,j) for i in range(3) for j in range(3)]))"
   ]
  },
  {
   "cell_type": "markdown",
   "metadata": {},
   "source": [
    "Make a general matrix to begin with and also a vector"
   ]
  },
  {
   "cell_type": "code",
   "execution_count": 3,
   "metadata": {},
   "outputs": [
    {
     "data": {
      "image/png": "[encoded data removed]",
      "text/latex": [
       "$$\\left ( \\left[\\begin{matrix}U_{00} & U_{01} & U_{02}\\\\U_{10} & U_{11} & U_{12}\\\\U_{20} & U_{21} & U_{22}\\end{matrix}\\right], \\quad \\left[\\begin{matrix}t_{0}\\\\t_{1}\\\\t_{2}\\end{matrix}\\right]\\right )$$"
      ],
      "text/plain": [
       "⎛⎡U₀₀  U₀₁  U₀₂⎤  ⎡t₀⎤⎞\n",
       "⎜⎢             ⎥  ⎢  ⎥⎟\n",
       "⎜⎢U₁₀  U₁₁  U₁₂⎥, ⎢t₁⎥⎟\n",
       "⎜⎢             ⎥  ⎢  ⎥⎟\n",
       "⎝⎣U₂₀  U₂₁  U₂₂⎦  ⎣t₂⎦⎠"
      ]
     },
     "execution_count": 3,
     "metadata": {},
     "output_type": "execute_result"
    }
   ],
   "source": [
    "U = sympy.Matrix( [[UL[0],UL[1],UL[2]],\n",
    "                   [UL[3],UL[4],UL[5]],\n",
    "                   [UL[6],UL[7],UL[8]]])\n",
    "t = sympy.Matrix( [t0,t1,t2] )\n",
    "U,t"
   ]
  },
  {
   "cell_type": "code",
   "execution_count": 4,
   "metadata": {},
   "outputs": [
    {
     "data": {
      "image/png": "[encoded data removed]",
      "text/latex": [
       "$$\\left[\\begin{matrix}U_{00} & U_{01} & U_{02} & t_{0}\\\\U_{10} & U_{11} & U_{12} & t_{1}\\\\U_{20} & U_{21} & U_{22} & t_{2}\\\\0 & 0 & 0 & 1\\end{matrix}\\right]$$"
      ],
      "text/plain": [
       "⎡U₀₀  U₀₁  U₀₂  t₀⎤\n",
       "⎢                 ⎥\n",
       "⎢U₁₀  U₁₁  U₁₂  t₁⎥\n",
       "⎢                 ⎥\n",
       "⎢U₂₀  U₂₁  U₂₂  t₂⎥\n",
       "⎢                 ⎥\n",
       "⎣ 0    0    0   1 ⎦"
      ]
     },
     "execution_count": 4,
     "metadata": {},
     "output_type": "execute_result"
    }
   ],
   "source": [
    "def make_mat4(U,t):\n",
    "    mat4_full = sympy.Matrix( [[U[0,0],U[0,1],U[0,2], t[0]], \n",
    "                               [U[1,0],U[1,1],U[1,2], t[1]], \n",
    "                               [U[2,0],U[2,1],U[2,2], t[2]],  \n",
    "                               [     0,     0,      0,   1]] )\n",
    "    return mat4_full\n",
    "mat4_full = make_mat4(U,t)\n",
    "mat4_full"
   ]
  },
  {
   "cell_type": "markdown",
   "metadata": {},
   "source": [
    "Some demos using a real space vector (with position) and then a reciprocal space vector (without position)"
   ]
  },
  {
   "cell_type": "code",
   "execution_count": 5,
   "metadata": {},
   "outputs": [
    {
     "data": {
      "image/png": "[encoded data removed]",
      "text/latex": [
       "$$\\left[\\begin{matrix}U_{00} x + U_{01} y + U_{02} z + t_{0}\\\\U_{10} x + U_{11} y + U_{12} z + t_{1}\\\\U_{20} x + U_{21} y + U_{22} z + t_{2}\\\\1\\end{matrix}\\right]$$"
      ],
      "text/plain": [
       "⎡U₀₀⋅x + U₀₁⋅y + U₀₂⋅z + t₀⎤\n",
       "⎢                          ⎥\n",
       "⎢U₁₀⋅x + U₁₁⋅y + U₁₂⋅z + t₁⎥\n",
       "⎢                          ⎥\n",
       "⎢U₂₀⋅x + U₂₁⋅y + U₂₂⋅z + t₂⎥\n",
       "⎢                          ⎥\n",
       "⎣            1             ⎦"
      ]
     },
     "execution_count": 5,
     "metadata": {},
     "output_type": "execute_result"
    }
   ],
   "source": [
    "X = sympy.Matrix( [x,y,z,1] )  # Real space vector\n",
    "mat4_full * X"
   ]
  },
  {
   "cell_type": "code",
   "execution_count": 6,
   "metadata": {},
   "outputs": [
    {
     "data": {
      "image/png": "[encoded data removed]",
      "text/latex": [
       "$$\\left[\\begin{matrix}U_{00} h + U_{01} k + U_{02} l\\\\U_{10} h + U_{11} k + U_{12} l\\\\U_{20} h + U_{21} k + U_{22} l\\\\0\\end{matrix}\\right]$$"
      ],
      "text/plain": [
       "⎡U₀₀⋅h + U₀₁⋅k + U₀₂⋅l⎤\n",
       "⎢                     ⎥\n",
       "⎢U₁₀⋅h + U₁₁⋅k + U₁₂⋅l⎥\n",
       "⎢                     ⎥\n",
       "⎢U₂₀⋅h + U₂₁⋅k + U₂₂⋅l⎥\n",
       "⎢                     ⎥\n",
       "⎣          0          ⎦"
      ]
     },
     "execution_count": 6,
     "metadata": {},
     "output_type": "execute_result"
    }
   ],
   "source": [
    "H = sympy.Matrix( [h,k,l,0] )\n",
    "mat4_full * H     # show a reciprocal space vector picking up rotation only"
   ]
  },
  {
   "cell_type": "markdown",
   "metadata": {},
   "source": [
    "The stack of motors on the beamline is then represented by a series of 4x4 matrix products. If we look for the position and orientation of the sample we put the \"1\" on the vector. If we only want the orientation we leave off the 1. \n",
    "Some care will be needed if these are not pure rotations.\n",
    "\n",
    "We combine two motors, one depending on the other, as a product rule. The order of operations is important. It is not the same to translate and then rotate compared to rotate then translate. This follows in the maths as matrix multiplication does not commute.\n",
    "\n",
    "TODO : inverse ?"
   ]
  },
  {
   "cell_type": "markdown",
   "metadata": {},
   "source": [
    "Next we will generate some rotation matrices from the axis/angle representation:\n",
    " https://en.wikipedia.org/wiki/Axis%E2%80%93angle_representation\n",
    " \n",
    "We implement the rotation formula. The input vector is split into 3 components. The part parallel to the axis (axis.v) and the parts perpendicular that are added as sin and cos of the angle."
   ]
  },
  {
   "cell_type": "code",
   "execution_count": 7,
   "metadata": {},
   "outputs": [],
   "source": [
    "cosOmega = sympy.cos( Omega )\n",
    "sinOmega = sympy.sin( Omega )\n",
    "a = sympy.Matrix( list(sympy.symbols('a0 a1 a2')))\n",
    "v = sympy.Matrix( list(sympy.symbols('v0 v1 v2')))\n",
    "# Wikipedia formula\n",
    "vrot1 = cosOmega*v + sinOmega*(v.cross(a)) + (1-cosOmega)*(a.dot(v))*a\n",
    "# Re-arrange to give:\n",
    "#         perp_v_axis           perp_axis_along_v            v_along_axis\n",
    "vrot2 = sinOmega*v.cross(a) + cosOmega*( v - (a.dot(v))*a) + a.dot(v)*a\n",
    "# Check these two are the same thing\n",
    "assert (sympy.simplify(vrot1-vrot2) == sympy.Matrix([0,0,0]))"
   ]
  },
  {
   "cell_type": "markdown",
   "metadata": {},
   "source": [
    "We use the vrot1 formula then:"
   ]
  },
  {
   "cell_type": "code",
   "execution_count": 8,
   "metadata": {},
   "outputs": [],
   "source": [
    "\n",
    "def axis_angle_rotation( vec, axis, angle ):\n",
    "    \"\"\"wikipedia formula\"\"\"\n",
    "    cosa = sympy.cos( angle )\n",
    "    sina = sympy.sin( angle )\n",
    "    return cosa*vec + sina*(axis.cross(vec)) + (1-cosa)*(axis.dot(vec))*axis"
   ]
  },
  {
   "cell_type": "markdown",
   "metadata": {},
   "source": [
    "Rotations around the x,y,z axes"
   ]
  },
  {
   "cell_type": "code",
   "execution_count": 9,
   "metadata": {},
   "outputs": [
    {
     "data": {
      "image/png": "[encoded data removed]",
      "text/latex": [
       "$$\\left ( \\left[\\begin{matrix}v_{0}\\\\v_{1} \\cos{\\left (\\Omega \\right )} - v_{2} \\sin{\\left (\\Omega \\right )}\\\\v_{1} \\sin{\\left (\\Omega \\right )} + v_{2} \\cos{\\left (\\Omega \\right )}\\end{matrix}\\right], \\quad \\left[\\begin{matrix}v_{0} \\cos{\\left (\\Omega \\right )} + v_{2} \\sin{\\left (\\Omega \\right )}\\\\v_{1}\\\\- v_{0} \\sin{\\left (\\Omega \\right )} + v_{2} \\cos{\\left (\\Omega \\right )}\\end{matrix}\\right], \\quad \\left[\\begin{matrix}v_{0} \\cos{\\left (\\Omega \\right )} - v_{1} \\sin{\\left (\\Omega \\right )}\\\\v_{0} \\sin{\\left (\\Omega \\right )} + v_{1} \\cos{\\left (\\Omega \\right )}\\\\v_{2}\\end{matrix}\\right]\\right )$$"
      ],
      "text/plain": [
       "⎛⎡         v₀          ⎤  ⎡v₀⋅cos(Ω) + v₂⋅sin(Ω) ⎤  ⎡v₀⋅cos(Ω) - v₁⋅sin(Ω)⎤⎞\n",
       "⎜⎢                     ⎥  ⎢                      ⎥  ⎢                     ⎥⎟\n",
       "⎜⎢v₁⋅cos(Ω) - v₂⋅sin(Ω)⎥, ⎢          v₁          ⎥, ⎢v₀⋅sin(Ω) + v₁⋅cos(Ω)⎥⎟\n",
       "⎜⎢                     ⎥  ⎢                      ⎥  ⎢                     ⎥⎟\n",
       "⎝⎣v₁⋅sin(Ω) + v₂⋅cos(Ω)⎦  ⎣-v₀⋅sin(Ω) + v₂⋅cos(Ω)⎦  ⎣         v₂          ⎦⎠"
      ]
     },
     "execution_count": 9,
     "metadata": {},
     "output_type": "execute_result"
    }
   ],
   "source": [
    "X = sympy.Matrix([1,0,0])\n",
    "Y = sympy.Matrix([0,1,0])\n",
    "Z = sympy.Matrix([0,0,1])\n",
    "\n",
    "sympy.simplify(axis_angle_rotation(v, X, Omega)),\\\n",
    "sympy.simplify(axis_angle_rotation(v, Y, Omega)),\\\n",
    "sympy.simplify(axis_angle_rotation(v, Z, Omega))"
   ]
  },
  {
   "cell_type": "markdown",
   "metadata": {},
   "source": [
    "Try to verify that we have coded a right handed rotation. It means the x transforms in +y when rotating by +90 degrees ($=\\pi/2$) around z:"
   ]
  },
  {
   "cell_type": "code",
   "execution_count": 10,
   "metadata": {},
   "outputs": [
    {
     "data": {
      "image/png": "[encoded data removed]",
      "text/latex": [
       "$$\\left ( \\left[\\begin{matrix}0\\\\1\\\\0\\end{matrix}\\right], \\quad \\left[\\begin{matrix}-1\\\\0\\\\0\\end{matrix}\\right], \\quad \\left[\\begin{matrix}0\\\\0\\\\1\\end{matrix}\\right]\\right )$$"
      ],
      "text/plain": [
       "⎛⎡0⎤  ⎡-1⎤  ⎡0⎤⎞\n",
       "⎜⎢ ⎥  ⎢  ⎥  ⎢ ⎥⎟\n",
       "⎜⎢1⎥, ⎢0 ⎥, ⎢0⎥⎟\n",
       "⎜⎢ ⎥  ⎢  ⎥  ⎢ ⎥⎟\n",
       "⎝⎣0⎦  ⎣0 ⎦  ⎣1⎦⎠"
      ]
     },
     "execution_count": 10,
     "metadata": {},
     "output_type": "execute_result"
    }
   ],
   "source": [
    "axis_angle_rotation( X, Z, sympy.pi/2 ),axis_angle_rotation( Y, Z, sympy.pi/2 ),axis_angle_rotation( Z, Z, sympy.pi/2 )"
   ]
  },
  {
   "cell_type": "markdown",
   "metadata": {},
   "source": [
    "Now we convert the axis angle to a rotation matrix..."
   ]
  },
  {
   "cell_type": "code",
   "execution_count": null,
   "metadata": {},
   "outputs": [],
   "source": []
  }
 ],
 "metadata": {
  "kernelspec": {
   "display_name": "Python 3",
   "language": "python",
   "name": "python3"
  },
  "language_info": {
   "codemirror_mode": {
    "name": "ipython",
    "version": 3
   },
   "file_extension": ".py",
   "mimetype": "text/x-python",
   "name": "python",
   "nbconvert_exporter": "python",
   "pygments_lexer": "ipython3",
   "version": "3.6.3"
  }
 },
 "nbformat": 4,
 "nbformat_minor": 2
}
